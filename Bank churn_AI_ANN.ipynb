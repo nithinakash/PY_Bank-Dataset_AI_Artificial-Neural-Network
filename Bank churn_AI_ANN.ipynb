{
 "cells": [
  {
   "cell_type": "markdown",
   "id": "2b6f2158",
   "metadata": {},
   "source": [
    "### Packages Required"
   ]
  },
  {
   "cell_type": "code",
   "execution_count": 22,
   "id": "222e0c47",
   "metadata": {},
   "outputs": [],
   "source": [
    "import numpy as np\n",
    "import pandas as pd\n",
    "import matplotlib.pyplot as plt\n",
    "\n",
    "from sklearn.model_selection import train_test_split\n",
    "from sklearn.preprocessing import StandardScaler\n",
    "from sklearn.metrics import roc_auc_score,classification_report\n",
    "\n",
    "from keras.models import Sequential\n",
    "from keras.layers import Dense"
   ]
  },
  {
   "cell_type": "markdown",
   "id": "e9901a55",
   "metadata": {},
   "source": [
    "### Datasets"
   ]
  },
  {
   "cell_type": "code",
   "execution_count": 2,
   "id": "e66ec6ae",
   "metadata": {},
   "outputs": [],
   "source": [
    "df = pd.read_csv('C:/Users/Nithin/Downloads/Bank customer churn_AI_ANN/Datasets/Churn_Modelling.csv')"
   ]
  },
  {
   "cell_type": "code",
   "execution_count": 3,
   "id": "c74178a2",
   "metadata": {},
   "outputs": [
    {
     "data": {
      "text/plain": [
       "RowNumber          0\n",
       "CustomerId         0\n",
       "Surname            0\n",
       "CreditScore        0\n",
       "Geography          0\n",
       "Gender             0\n",
       "Age                0\n",
       "Tenure             0\n",
       "Balance            0\n",
       "NumOfProducts      0\n",
       "HasCrCard          0\n",
       "IsActiveMember     0\n",
       "EstimatedSalary    0\n",
       "Exited             0\n",
       "dtype: int64"
      ]
     },
     "execution_count": 3,
     "metadata": {},
     "output_type": "execute_result"
    }
   ],
   "source": [
    "df.isnull().sum()"
   ]
  },
  {
   "cell_type": "code",
   "execution_count": 4,
   "id": "2a2267aa",
   "metadata": {},
   "outputs": [
    {
     "name": "stdout",
     "output_type": "stream",
     "text": [
      "<class 'pandas.core.frame.DataFrame'>\n",
      "RangeIndex: 10000 entries, 0 to 9999\n",
      "Data columns (total 14 columns):\n",
      " #   Column           Non-Null Count  Dtype  \n",
      "---  ------           --------------  -----  \n",
      " 0   RowNumber        10000 non-null  int64  \n",
      " 1   CustomerId       10000 non-null  int64  \n",
      " 2   Surname          10000 non-null  object \n",
      " 3   CreditScore      10000 non-null  int64  \n",
      " 4   Geography        10000 non-null  object \n",
      " 5   Gender           10000 non-null  object \n",
      " 6   Age              10000 non-null  int64  \n",
      " 7   Tenure           10000 non-null  int64  \n",
      " 8   Balance          10000 non-null  float64\n",
      " 9   NumOfProducts    10000 non-null  int64  \n",
      " 10  HasCrCard        10000 non-null  int64  \n",
      " 11  IsActiveMember   10000 non-null  int64  \n",
      " 12  EstimatedSalary  10000 non-null  float64\n",
      " 13  Exited           10000 non-null  int64  \n",
      "dtypes: float64(2), int64(9), object(3)\n",
      "memory usage: 1.1+ MB\n"
     ]
    }
   ],
   "source": [
    "df.info()"
   ]
  },
  {
   "cell_type": "code",
   "execution_count": 5,
   "id": "d0cf0d80",
   "metadata": {},
   "outputs": [],
   "source": [
    "#One hot encoding\n",
    "df = pd.get_dummies(df,columns=['Geography','Gender'],drop_first=True)"
   ]
  },
  {
   "cell_type": "code",
   "execution_count": 6,
   "id": "e0c76a58",
   "metadata": {},
   "outputs": [],
   "source": [
    "#Drop unnecessary columns\n",
    "df.drop(columns=['RowNumber','CustomerId','Surname'],inplace=True)"
   ]
  },
  {
   "cell_type": "markdown",
   "id": "cf8e0ea6",
   "metadata": {},
   "source": [
    "### Train Test Split"
   ]
  },
  {
   "cell_type": "code",
   "execution_count": 7,
   "id": "058f037c",
   "metadata": {},
   "outputs": [],
   "source": [
    "y = df.Exited\n",
    "x = df[df.columns.difference(['Exited'])]"
   ]
  },
  {
   "cell_type": "code",
   "execution_count": 8,
   "id": "aadac2e5",
   "metadata": {},
   "outputs": [],
   "source": [
    "train_x,test_x,train_y,test_y = train_test_split(x,y,test_size=0.3,random_state=123)"
   ]
  },
  {
   "cell_type": "markdown",
   "id": "fe39ea36",
   "metadata": {},
   "source": [
    "### Standardising the data"
   ]
  },
  {
   "cell_type": "code",
   "execution_count": 9,
   "id": "d266d980",
   "metadata": {},
   "outputs": [],
   "source": [
    "sc = StandardScaler()\n",
    "sc = sc.fit(train_x)\n",
    "train_x_std = sc.transform(train_x)\n",
    "train_x_std = pd.DataFrame(train_x_std,columns=train_x.columns)"
   ]
  },
  {
   "cell_type": "code",
   "execution_count": 10,
   "id": "c95e45d7",
   "metadata": {},
   "outputs": [],
   "source": [
    "test_x_std = sc.transform(test_x)\n",
    "test_x_std = pd.DataFrame(test_x_std,columns=test_x.columns)"
   ]
  },
  {
   "cell_type": "code",
   "execution_count": 11,
   "id": "e9d705e3",
   "metadata": {},
   "outputs": [
    {
     "data": {
      "text/plain": [
       "(7000, 11)"
      ]
     },
     "execution_count": 11,
     "metadata": {},
     "output_type": "execute_result"
    }
   ],
   "source": [
    "train_x_std.shape"
   ]
  },
  {
   "cell_type": "markdown",
   "id": "3feca1a3",
   "metadata": {},
   "source": [
    "### ANN Model"
   ]
  },
  {
   "cell_type": "code",
   "execution_count": 12,
   "id": "852aaf09",
   "metadata": {},
   "outputs": [],
   "source": [
    "ann = Sequential()"
   ]
  },
  {
   "cell_type": "code",
   "execution_count": 15,
   "id": "dcd0b272",
   "metadata": {},
   "outputs": [],
   "source": [
    "ann.add(Dense(4, activation = 'relu', input_dim = 11)) #Hidden layer 1\n",
    "ann.add(Dense(4, activation = 'relu')) #Hidden layer 2\n",
    "ann.add(Dense(1,  activation = 'sigmoid')) #Output Layer"
   ]
  },
  {
   "cell_type": "code",
   "execution_count": 16,
   "id": "97bf069e",
   "metadata": {},
   "outputs": [],
   "source": [
    "ann.compile(optimizer = 'adam', loss = 'binary_crossentropy', metrics = ['accuracy'])"
   ]
  },
  {
   "cell_type": "code",
   "execution_count": 17,
   "id": "7a227a33",
   "metadata": {},
   "outputs": [
    {
     "name": "stdout",
     "output_type": "stream",
     "text": [
      "Model: \"sequential\"\n",
      "_________________________________________________________________\n",
      " Layer (type)                Output Shape              Param #   \n",
      "=================================================================\n",
      " dense (Dense)               (None, 4)                 48        \n",
      "                                                                 \n",
      " dense_1 (Dense)             (None, 4)                 20        \n",
      "                                                                 \n",
      " dense_2 (Dense)             (None, 1)                 5         \n",
      "                                                                 \n",
      "=================================================================\n",
      "Total params: 73\n",
      "Trainable params: 73\n",
      "Non-trainable params: 0\n",
      "_________________________________________________________________\n"
     ]
    }
   ],
   "source": [
    "ann.summary()"
   ]
  },
  {
   "cell_type": "code",
   "execution_count": 18,
   "id": "1caea626",
   "metadata": {},
   "outputs": [
    {
     "data": {
      "text/plain": [
       "[array([[-0.12640536,  0.40007728, -0.34329772,  0.29484254],\n",
       "        [ 0.32304054, -0.4511248 , -0.5389521 ,  0.01902175],\n",
       "        [ 0.23736972,  0.1134221 ,  0.6079479 , -0.1454699 ],\n",
       "        [-0.5487182 , -0.13096792,  0.4322024 , -0.54568845],\n",
       "        [-0.10975927, -0.53420645, -0.15435275, -0.5476223 ],\n",
       "        [-0.36034897, -0.04925799,  0.14160699, -0.4523706 ],\n",
       "        [ 0.48750705, -0.5381731 ,  0.3602683 , -0.36987945],\n",
       "        [-0.5531308 ,  0.4146828 ,  0.08435369,  0.264543  ],\n",
       "        [ 0.48900312, -0.39520976, -0.0167352 , -0.43950513],\n",
       "        [-0.13426462,  0.2589953 ,  0.4659044 , -0.37367314],\n",
       "        [ 0.02304602, -0.12459284, -0.2955045 , -0.33554447]],\n",
       "       dtype=float32),\n",
       " array([0., 0., 0., 0.], dtype=float32),\n",
       " array([[-0.30094308,  0.8509043 ,  0.44408792,  0.25002676],\n",
       "        [-0.0142473 , -0.7294209 , -0.31541008,  0.7307343 ],\n",
       "        [ 0.255547  ,  0.720674  , -0.31675398, -0.8402681 ],\n",
       "        [-0.14844114,  0.64074045,  0.28004187, -0.25097698]],\n",
       "       dtype=float32),\n",
       " array([0., 0., 0., 0.], dtype=float32),\n",
       " array([[0.424963  ],\n",
       "        [0.8552245 ],\n",
       "        [0.12607205],\n",
       "        [0.10433865]], dtype=float32),\n",
       " array([0.], dtype=float32)]"
      ]
     },
     "execution_count": 18,
     "metadata": {},
     "output_type": "execute_result"
    }
   ],
   "source": [
    "ann.get_weights()"
   ]
  },
  {
   "cell_type": "code",
   "execution_count": 19,
   "id": "a2d904de",
   "metadata": {},
   "outputs": [
    {
     "name": "stdout",
     "output_type": "stream",
     "text": [
      "Epoch 1/50\n",
      "14/14 [==============================] - 4s 43ms/step - loss: 1.0458 - accuracy: 0.2484 - val_loss: 1.0167 - val_accuracy: 0.2587\n",
      "Epoch 2/50\n",
      "14/14 [==============================] - 0s 8ms/step - loss: 0.9859 - accuracy: 0.2680 - val_loss: 0.9610 - val_accuracy: 0.2947\n",
      "Epoch 3/50\n",
      "14/14 [==============================] - 0s 8ms/step - loss: 0.9353 - accuracy: 0.3109 - val_loss: 0.9137 - val_accuracy: 0.3493\n",
      "Epoch 4/50\n",
      "14/14 [==============================] - 0s 10ms/step - loss: 0.8917 - accuracy: 0.3616 - val_loss: 0.8745 - val_accuracy: 0.3960\n",
      "Epoch 5/50\n",
      "14/14 [==============================] - 0s 8ms/step - loss: 0.8556 - accuracy: 0.4039 - val_loss: 0.8415 - val_accuracy: 0.4217\n",
      "Epoch 6/50\n",
      "14/14 [==============================] - 0s 9ms/step - loss: 0.8252 - accuracy: 0.4314 - val_loss: 0.8133 - val_accuracy: 0.4520\n",
      "Epoch 7/50\n",
      "14/14 [==============================] - 0s 8ms/step - loss: 0.7990 - accuracy: 0.4620 - val_loss: 0.7893 - val_accuracy: 0.4743\n",
      "Epoch 8/50\n",
      "14/14 [==============================] - 0s 8ms/step - loss: 0.7765 - accuracy: 0.4856 - val_loss: 0.7687 - val_accuracy: 0.5003\n",
      "Epoch 9/50\n",
      "14/14 [==============================] - 0s 9ms/step - loss: 0.7571 - accuracy: 0.5116 - val_loss: 0.7508 - val_accuracy: 0.5180\n",
      "Epoch 10/50\n",
      "14/14 [==============================] - 0s 9ms/step - loss: 0.7403 - accuracy: 0.5364 - val_loss: 0.7351 - val_accuracy: 0.5363\n",
      "Epoch 11/50\n",
      "14/14 [==============================] - 0s 8ms/step - loss: 0.7255 - accuracy: 0.5596 - val_loss: 0.7211 - val_accuracy: 0.5623\n",
      "Epoch 12/50\n",
      "14/14 [==============================] - 0s 9ms/step - loss: 0.7124 - accuracy: 0.5836 - val_loss: 0.7086 - val_accuracy: 0.5860\n",
      "Epoch 13/50\n",
      "14/14 [==============================] - 0s 9ms/step - loss: 0.7007 - accuracy: 0.6053 - val_loss: 0.6971 - val_accuracy: 0.6107\n",
      "Epoch 14/50\n",
      "14/14 [==============================] - 0s 9ms/step - loss: 0.6900 - accuracy: 0.6264 - val_loss: 0.6866 - val_accuracy: 0.6333\n",
      "Epoch 15/50\n",
      "14/14 [==============================] - 0s 9ms/step - loss: 0.6802 - accuracy: 0.6447 - val_loss: 0.6768 - val_accuracy: 0.6473\n",
      "Epoch 16/50\n",
      "14/14 [==============================] - 0s 8ms/step - loss: 0.6709 - accuracy: 0.6639 - val_loss: 0.6676 - val_accuracy: 0.6707\n",
      "Epoch 17/50\n",
      "14/14 [==============================] - 0s 8ms/step - loss: 0.6619 - accuracy: 0.6841 - val_loss: 0.6586 - val_accuracy: 0.6920\n",
      "Epoch 18/50\n",
      "14/14 [==============================] - 0s 8ms/step - loss: 0.6529 - accuracy: 0.7027 - val_loss: 0.6493 - val_accuracy: 0.7127\n",
      "Epoch 19/50\n",
      "14/14 [==============================] - 0s 8ms/step - loss: 0.6438 - accuracy: 0.7171 - val_loss: 0.6396 - val_accuracy: 0.7323\n",
      "Epoch 20/50\n",
      "14/14 [==============================] - 0s 10ms/step - loss: 0.6342 - accuracy: 0.7346 - val_loss: 0.6299 - val_accuracy: 0.7477\n",
      "Epoch 21/50\n",
      "14/14 [==============================] - 0s 9ms/step - loss: 0.6247 - accuracy: 0.7496 - val_loss: 0.6200 - val_accuracy: 0.7570\n",
      "Epoch 22/50\n",
      "14/14 [==============================] - 0s 9ms/step - loss: 0.6147 - accuracy: 0.7619 - val_loss: 0.6101 - val_accuracy: 0.7680\n",
      "Epoch 23/50\n",
      "14/14 [==============================] - 0s 9ms/step - loss: 0.6048 - accuracy: 0.7717 - val_loss: 0.6002 - val_accuracy: 0.7753\n",
      "Epoch 24/50\n",
      "14/14 [==============================] - 0s 10ms/step - loss: 0.5950 - accuracy: 0.7813 - val_loss: 0.5906 - val_accuracy: 0.7793\n",
      "Epoch 25/50\n",
      "14/14 [==============================] - 0s 8ms/step - loss: 0.5856 - accuracy: 0.7873 - val_loss: 0.5814 - val_accuracy: 0.7910\n",
      "Epoch 26/50\n",
      "14/14 [==============================] - 0s 7ms/step - loss: 0.5766 - accuracy: 0.7920 - val_loss: 0.5727 - val_accuracy: 0.7950\n",
      "Epoch 27/50\n",
      "14/14 [==============================] - 0s 9ms/step - loss: 0.5681 - accuracy: 0.7954 - val_loss: 0.5647 - val_accuracy: 0.7983\n",
      "Epoch 28/50\n",
      "14/14 [==============================] - 0s 8ms/step - loss: 0.5603 - accuracy: 0.7970 - val_loss: 0.5571 - val_accuracy: 0.7987\n",
      "Epoch 29/50\n",
      "14/14 [==============================] - 0s 7ms/step - loss: 0.5531 - accuracy: 0.7987 - val_loss: 0.5499 - val_accuracy: 0.8000\n",
      "Epoch 30/50\n",
      "14/14 [==============================] - 0s 8ms/step - loss: 0.5462 - accuracy: 0.7993 - val_loss: 0.5435 - val_accuracy: 0.8013\n",
      "Epoch 31/50\n",
      "14/14 [==============================] - 0s 9ms/step - loss: 0.5399 - accuracy: 0.7993 - val_loss: 0.5375 - val_accuracy: 0.8037\n",
      "Epoch 32/50\n",
      "14/14 [==============================] - 0s 10ms/step - loss: 0.5340 - accuracy: 0.7994 - val_loss: 0.5319 - val_accuracy: 0.8050\n",
      "Epoch 33/50\n",
      "14/14 [==============================] - 0s 10ms/step - loss: 0.5287 - accuracy: 0.7999 - val_loss: 0.5266 - val_accuracy: 0.8070\n",
      "Epoch 34/50\n",
      "14/14 [==============================] - 0s 8ms/step - loss: 0.5236 - accuracy: 0.8003 - val_loss: 0.5216 - val_accuracy: 0.8067\n",
      "Epoch 35/50\n",
      "14/14 [==============================] - 0s 9ms/step - loss: 0.5188 - accuracy: 0.8014 - val_loss: 0.5170 - val_accuracy: 0.8060\n",
      "Epoch 36/50\n",
      "14/14 [==============================] - 0s 9ms/step - loss: 0.5143 - accuracy: 0.8026 - val_loss: 0.5125 - val_accuracy: 0.8057\n",
      "Epoch 37/50\n",
      "14/14 [==============================] - 0s 8ms/step - loss: 0.5099 - accuracy: 0.8044 - val_loss: 0.5082 - val_accuracy: 0.8063\n",
      "Epoch 38/50\n",
      "14/14 [==============================] - 0s 8ms/step - loss: 0.5057 - accuracy: 0.8050 - val_loss: 0.5040 - val_accuracy: 0.8070\n",
      "Epoch 39/50\n",
      "14/14 [==============================] - 0s 8ms/step - loss: 0.5017 - accuracy: 0.8061 - val_loss: 0.4998 - val_accuracy: 0.8080\n",
      "Epoch 40/50\n",
      "14/14 [==============================] - 0s 8ms/step - loss: 0.4979 - accuracy: 0.8064 - val_loss: 0.4958 - val_accuracy: 0.8080\n",
      "Epoch 41/50\n",
      "14/14 [==============================] - 0s 9ms/step - loss: 0.4941 - accuracy: 0.8067 - val_loss: 0.4920 - val_accuracy: 0.8073\n",
      "Epoch 42/50\n",
      "14/14 [==============================] - 0s 8ms/step - loss: 0.4907 - accuracy: 0.8073 - val_loss: 0.4881 - val_accuracy: 0.8057\n",
      "Epoch 43/50\n",
      "14/14 [==============================] - 0s 8ms/step - loss: 0.4872 - accuracy: 0.8071 - val_loss: 0.4845 - val_accuracy: 0.8067\n",
      "Epoch 44/50\n",
      "14/14 [==============================] - 0s 9ms/step - loss: 0.4841 - accuracy: 0.8073 - val_loss: 0.4809 - val_accuracy: 0.8053\n",
      "Epoch 45/50\n",
      "14/14 [==============================] - 0s 8ms/step - loss: 0.4809 - accuracy: 0.8074 - val_loss: 0.4775 - val_accuracy: 0.8083\n",
      "Epoch 46/50\n",
      "14/14 [==============================] - 0s 8ms/step - loss: 0.4779 - accuracy: 0.8074 - val_loss: 0.4741 - val_accuracy: 0.8093\n",
      "Epoch 47/50\n",
      "14/14 [==============================] - 0s 8ms/step - loss: 0.4750 - accuracy: 0.8076 - val_loss: 0.4709 - val_accuracy: 0.8103\n",
      "Epoch 48/50\n",
      "14/14 [==============================] - 0s 8ms/step - loss: 0.4721 - accuracy: 0.8074 - val_loss: 0.4679 - val_accuracy: 0.8100\n",
      "Epoch 49/50\n",
      "14/14 [==============================] - 0s 10ms/step - loss: 0.4694 - accuracy: 0.8077 - val_loss: 0.4648 - val_accuracy: 0.8093\n",
      "Epoch 50/50\n",
      "14/14 [==============================] - 0s 8ms/step - loss: 0.4667 - accuracy: 0.8079 - val_loss: 0.4618 - val_accuracy: 0.8093\n"
     ]
    },
    {
     "data": {
      "text/plain": [
       "<keras.callbacks.History at 0x23a31f0d580>"
      ]
     },
     "execution_count": 19,
     "metadata": {},
     "output_type": "execute_result"
    }
   ],
   "source": [
    "ann.fit(train_x_std,train_y,batch_size=500,epochs=50,validation_data=[test_x_std,test_y])"
   ]
  },
  {
   "cell_type": "code",
   "execution_count": 21,
   "id": "480d3aca",
   "metadata": {},
   "outputs": [
    {
     "name": "stdout",
     "output_type": "stream",
     "text": [
      "219/219 [==============================] - 1s 2ms/step\n",
      "94/94 [==============================] - 0s 2ms/step\n"
     ]
    }
   ],
   "source": [
    "pred_train = ann.predict(train_x)\n",
    "pred_test = ann.predict(test_x)"
   ]
  },
  {
   "cell_type": "markdown",
   "id": "3c475dc0",
   "metadata": {},
   "source": [
    "### Evaluation"
   ]
  },
  {
   "cell_type": "code",
   "execution_count": 24,
   "id": "ecea101e",
   "metadata": {},
   "outputs": [
    {
     "name": "stdout",
     "output_type": "stream",
     "text": [
      "0.4226664464337314\n",
      "0.4391162718473405\n"
     ]
    }
   ],
   "source": [
    "print(roc_auc_score(train_y,pred_train))\n",
    "print(roc_auc_score(test_y,pred_test))"
   ]
  },
  {
   "cell_type": "code",
   "execution_count": 27,
   "id": "05865ce2",
   "metadata": {},
   "outputs": [
    {
     "name": "stdout",
     "output_type": "stream",
     "text": [
      "              precision    recall  f1-score   support\n",
      "\n",
      "           0       0.74      0.07      0.12      5568\n",
      "           1       0.20      0.91      0.33      1432\n",
      "\n",
      "    accuracy                           0.24      7000\n",
      "   macro avg       0.47      0.49      0.23      7000\n",
      "weighted avg       0.63      0.24      0.16      7000\n",
      "\n"
     ]
    }
   ],
   "source": [
    "y_pred = pred_train>0.2\n",
    "print(classification_report(train_y,y_pred))"
   ]
  },
  {
   "cell_type": "code",
   "execution_count": 28,
   "id": "7f1833d5",
   "metadata": {},
   "outputs": [
    {
     "name": "stdout",
     "output_type": "stream",
     "text": [
      "              precision    recall  f1-score   support\n",
      "\n",
      "           0       0.76      0.07      0.13      2395\n",
      "           1       0.20      0.91      0.33       605\n",
      "\n",
      "    accuracy                           0.24      3000\n",
      "   macro avg       0.48      0.49      0.23      3000\n",
      "weighted avg       0.64      0.24      0.17      3000\n",
      "\n"
     ]
    }
   ],
   "source": [
    "y_pred = pred_test>0.2\n",
    "print(classification_report(test_y,y_pred))"
   ]
  }
 ],
 "metadata": {
  "kernelspec": {
   "display_name": "Python 3 (ipykernel)",
   "language": "python",
   "name": "python3"
  },
  "language_info": {
   "codemirror_mode": {
    "name": "ipython",
    "version": 3
   },
   "file_extension": ".py",
   "mimetype": "text/x-python",
   "name": "python",
   "nbconvert_exporter": "python",
   "pygments_lexer": "ipython3",
   "version": "3.9.7"
  }
 },
 "nbformat": 4,
 "nbformat_minor": 5
}
